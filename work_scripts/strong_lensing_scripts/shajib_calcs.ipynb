{
 "cells": [
  {
   "cell_type": "code",
   "execution_count": 1,
   "metadata": {
    "collapsed": true
   },
   "outputs": [
    {
     "name": "stdout",
     "output_type": "stream",
     "text": [
      "slacs0029-0055    2.38\n",
      "slacs0252+0039    1.57\n",
      "slacs0330-0020    1.91\n",
      "slacs0728+3835    1.86\n",
      "slacs0737+3216    2.68\n",
      "slacs0959+0410    2.05\n",
      "slacs1250+0523    2.30\n",
      "slacs1402+6321    1.97\n",
      "slacs1627-0053    2.33\n",
      "slacs1630+4520    1.97\n",
      "slacs2238-0754    1.79\n",
      "slacs2300+0022    2.06\n",
      "slacs2303+1422    1.86\n",
      "slacs0037-0942    2.14\n",
      "slacs1112+0826    2.21\n",
      "slacs1204+0358    2.29\n",
      "slacs1306+0600    1.89\n",
      "slacs1313+4615    2.06\n",
      "slacs1531-0105    2.13\n",
      "slacs1621+3931    1.80\n",
      "slacs1636+4707    2.09\n",
      "Name: gamma, dtype: float64\n",
      "0.1522373114343855\n",
      "[[0.03931386 0.00723194]\n",
      " [0.00723194 0.05740135]]\n",
      "[0.03931386 0.05740135]\n",
      "[0.19827723 0.23958579]\n"
     ]
    }
   ],
   "source": [
    "import pandas as pd\n",
    "import numpy as np\n",
    "from astropy import stats\n",
    "import matplotlib.pyplot as plt\n",
    "\n",
    "\n",
    "\n",
    "data_path = \"/Users/dgmt59/Desktop/shajib_stuff.xlsx\"\n",
    "data = pd.read_excel(data_path, index_col=0)\n",
    "del data.index.name\n",
    "\n",
    "print(data[\"gamma\"])\n",
    "corr = stats.biweight_midcorrelation(data[\"gamma_shajib\"], data[\"gamma\"], c=9)\n",
    "bicov = stats.biweight_midcovariance([data[\"gamma_shajib\"], data[\"gamma\"]])\n",
    "print(corr)\n",
    "print(bicov)\n",
    "print(bicov.diagonal())\n",
    "print(np.sqrt(bicov.diagonal()))"
   ]
  },
  {
   "cell_type": "code",
   "execution_count": 2,
   "outputs": [
    {
     "name": "stdout",
     "output_type": "stream",
     "text": [
      "2.0638095238095238\n"
     ]
    }
   ],
   "source": [
    "print(np.mean(data[\"gamma\"]))"
   ],
   "metadata": {
    "collapsed": false,
    "pycharm": {
     "name": "#%%\n"
    }
   }
  },
  {
   "cell_type": "code",
   "execution_count": null,
   "outputs": [],
   "source": [
    "fig = plt.figure(figsize=(6,6))\n",
    "plt.scatter(data[\"gamma_shajib\"], data[\"gamma\"], color=\"magenta\")\n",
    "plt.errorbar(data[\"gamma_shajib\"], data[\"gamma\"], ls=\"none\",\n",
    "             xerr=[data[\"shajib_le\"], data[\"shajib_ue\"]],\n",
    "             color=\"magenta\")\n",
    "lims = [\n",
    "    np.min([plt.xlim(), plt.ylim()]),  # min of both axes\n",
    "    np.max([plt.xlim(), plt.ylim()]),  # max of both axes\n",
    "     ]\n",
    "plt.plot(lims, lims, 'k--', alpha=0.75, zorder=0)"
   ],
   "metadata": {
    "collapsed": false,
    "pycharm": {
     "name": "#%%\n"
    }
   }
  },
  {
   "cell_type": "code",
   "execution_count": null,
   "outputs": [],
   "source": [
    "lims = [\n",
    "    np.min([plt.xlim(), plt.ylim()]),  # min of both axes\n",
    "    np.max([plt.xlim(), plt.ylim()]),  # max of both axes\n",
    "     ]\n",
    "plt.plot(lims, lims, 'k--', alpha=0.75, zorder=0)\n",
    "plt.figaspect(\"equal\")\n",
    "plt.xlim(lims)\n",
    "plt.ylim(lims)"
   ],
   "metadata": {
    "collapsed": false,
    "pycharm": {
     "name": "#%%\n"
    }
   }
  },
  {
   "cell_type": "code",
   "execution_count": null,
   "outputs": [],
   "source": [],
   "metadata": {
    "collapsed": false,
    "pycharm": {
     "name": "#%%\n"
    }
   }
  }
 ],
 "metadata": {
  "kernelspec": {
   "display_name": "Python 3",
   "language": "python",
   "name": "python3"
  },
  "language_info": {
   "codemirror_mode": {
    "name": "ipython",
    "version": 2
   },
   "file_extension": ".py",
   "mimetype": "text/x-python",
   "name": "python",
   "nbconvert_exporter": "python",
   "pygments_lexer": "ipython2",
   "version": "2.7.6"
  }
 },
 "nbformat": 4,
 "nbformat_minor": 0
}