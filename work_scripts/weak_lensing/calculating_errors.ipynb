{
 "cells": [
  {
   "cell_type": "code",
   "execution_count": null,
   "metadata": {
    "collapsed": true
   },
   "outputs": [],
   "source": []
  },
  {
   "cell_type": "code",
   "execution_count": 127,
   "outputs": [],
   "source": [
    "import pandas as pd\n",
    "from pandas import DataFrame as df\n",
    "import numpy as np\n",
    "from astropy import cosmology\n",
    "import matplotlib.pyplot as plt\n",
    "import getdist as gd\n",
    "from getdist import MCSamples\n",
    "import getdist.plots as gdplot\n",
    "import matplotlib\n",
    "from scipy.stats import norm\n",
    "import matplotlib.mlab as mlab\n",
    "from autogalaxy.util import cosmology_util\n",
    "from astropy import constants\n",
    "import re\n",
    "\n",
    "cosmo = cosmology.Planck15\n",
    "fig_path = '/Users/dgmt59/Documents/Plots/weak_lensing/'"
   ],
   "metadata": {
    "collapsed": false,
    "pycharm": {
     "name": "#%%\n"
    }
   }
  },
  {
   "cell_type": "code",
   "execution_count": 128,
   "outputs": [],
   "source": [
    "from autoconf import conf\n",
    "import autofit as af\n",
    "import autolens as al\n",
    "import autolens.plot as aplt\n",
    "from astropy.io import fits\n",
    "\n",
    "from astropy import units as u\n",
    "from astropy.coordinates import SkyCoord\n",
    "from astropy.utils.data import get_pkg_data_filename\n",
    "import matplotlib.pyplot as plt\n",
    "from matplotlib import gridspec as gridspec\n",
    "from matplotlib.colors import SymLogNorm\n",
    "import math\n"
   ],
   "metadata": {
    "collapsed": false,
    "pycharm": {
     "name": "#%%\n"
    }
   }
  },
  {
   "cell_type": "code",
   "execution_count": 129,
   "outputs": [
    {
     "name": "stdout",
     "output_type": "stream",
     "text": [
      "Aggregator loading phases... could take some time.\n",
      "\n",
      " A total of 9 phases and results were found.\n"
     ]
    }
   ],
   "source": [
    "#import autogalaxy.util.convert as convert\n",
    "\n",
    "\n",
    "%matplotlib inline\n",
    "\n",
    "workspace_path = \"/Users/dgmt59/PycharmProjects/autolens_slacs/\"\n",
    "output_path = \"/Users/dgmt59/output\"\n",
    "aggregator_results_path_1 = output_path + \"/slacs_shu_bspline_clean/slacs1430+4105\"\n",
    "\n",
    "fits_header_path = \"/Users/dgmt59/Documents/Data/SLACS_headers/SLACSJ1430+4105_F814W_4_biz.fits\"\n",
    "shu_data_path = \"/Users/dgmt59/PycharmProjects/autolens_slacs_pre_v_1/dataset/slacs_shu/slacs1430+4105/F814W_image.fits\"\n",
    "\n",
    "agg = af.Aggregator(directory=str(aggregator_results_path_1), completed_only=True)"
   ],
   "metadata": {
    "collapsed": false,
    "pycharm": {
     "name": "#%%\n"
    }
   }
  },
  {
   "cell_type": "code",
   "execution_count": 130,
   "outputs": [],
   "source": [
    "from astropy.io import fits\n",
    "data_path = \"/Users/dgmt59/Documents/Data/slacs_weak_lensing/1430+4105_F814W_drz_sci_clean.shears\"\n",
    "field_image_path = \"/Users/dgmt59/Documents/Data/slacs_weak_lensing/1430+4105_F814W_drz_sci.fits\"\n",
    "\n",
    "weak_shear = fits.open(data_path)\n",
    "\n",
    "image_shu = fits.open(fits_header_path)[0]\n",
    "image_shu_transform= fits.open(shu_data_path)[0]\n",
    "\n",
    "\n",
    "data = weak_shear[1].data\n",
    "\n",
    "field_image_data  = get_pkg_data_filename(field_image_path)\n",
    "\n",
    "field_image = fits.getdata(field_image_data, ext=0)"
   ],
   "metadata": {
    "collapsed": false,
    "pycharm": {
     "name": "#%%\n"
    }
   }
  },
  {
   "cell_type": "code",
   "execution_count": 131,
   "outputs": [
    {
     "name": "stdout",
     "output_type": "stream",
     "text": [
      "['x', 'y', 'xx', 'yy', 'xy', 'xxxx', 'yyyy', 'xxyy', 'xyyy', 'xxxy', 'prob', 'skymed', 'skysd', 'skysw', 'exp_time', 'radius', 'x_err', 'y_err', 'xx_err', 'yy_err', 'xy_err', 'xxxx_err', 'yyyy_err', 'xxyy_err', 'xyyy_err', 'xxxy_err', 'prob_err', 'skymed_err', 'skysd_err', 'skysw_err', 'exp_time_err', 'ra', 'dec', 'e1', 'e2', 'e1_err', 'e2_err', 'ell', 'pa', 'gal_size', 'a', 'b', 'NUMBER', 'X_IMAGE', 'Y_IMAGE', 'X_WORLD', 'Y_WORLD', 'THETA_WORLD', 'THETA_IMAGE', 'A_IMAGE', 'B_IMAGE', 'FWHM_IMAGE', 'MAG_ISO', 'MU_MAX', 'MAG_AUTO', 'MAGERR_AUTO', 'MAGERR_ISO', 'ISOAREA_IMAGE', 'CLASS_STAR', 'BACKGROUND', 'FLAGS', 'FLUX_AUTO', 'FLUXERR_AUTO', 'KRON_RADIUS', 'RA', 'DEC', 'galStarFlag', 'j9op36bf_X_IMAGE', 'j9op36bf_Y_IMAGE', 'j9op36bg_X_IMAGE', 'j9op36bg_Y_IMAGE', 'j9op36bi_X_IMAGE', 'j9op36bi_Y_IMAGE', 'j9op36bk_X_IMAGE', 'j9op36bk_Y_IMAGE', 'shear', 'nExposures', 'xx_uncorrected', 'yy_uncorrected', 'gamma1', 'gamma2', 'clean']\n"
     ]
    }
   ],
   "source": [
    "print(weak_shear[1].columns.names)"
   ],
   "metadata": {
    "collapsed": false,
    "pycharm": {
     "name": "#%%\n"
    }
   }
  },
  {
   "cell_type": "code",
   "execution_count": 175,
   "outputs": [],
   "source": [
    "import numpy as np\n",
    "from astropy.io import fits\n",
    "\n",
    "import ipdb as pdb\n",
    "\n",
    "def calc_shear_err(shear_catalogue,\n",
    "                   outfile,\n",
    "                   min_rad=6,\n",
    "                   catalogue=None):\n",
    "    \n",
    "    if catalogue is None:\n",
    "        catalogue = fits.open(shear_catalogue)[1].data\n",
    "\n",
    "    weight = catalogue['radius']\n",
    "    weight[catalogue['radius'] < min_rad] = min_rad\n",
    "    \n",
    "    beta = 1./(2.*catalogue['gal_size']**2*(catalogue['shear']**2+weight**2))\n",
    "\n",
    "    u1 = beta*(-catalogue['xxxx']+catalogue['yyyy']) \n",
    "    u2 = -2.*beta*(catalogue['xxxy']+catalogue['xyyy'])\n",
    "    u1_err = np.sqrt(np.square(catalogue['xxxx_err'])+np.square(catalogue['yyyy_err']))\n",
    "    u2_err = np.sqrt(np.square(catalogue['xxxy_err'])+np.square(catalogue['xyyy_err']))\n",
    "\n",
    "    gal_lambda=beta*(catalogue['xxxx']+2.*catalogue['xxyy']+catalogue['yyyy'])\n",
    "  \n",
    "    \n",
    "    ellipticity_sqr = catalogue['e1']**2+catalogue['e2']**2\n",
    "    e_dot_u = catalogue['e1']*u1+catalogue['e2']*u2\n",
    "\n",
    "    e1_err = catalogue['e1_err']\n",
    "    e2_err = catalogue['e2_err']\n",
    "\n",
    "    G = 2-np.nanmedian(ellipticity_sqr)-\\\n",
    "            0.5*np.nanmedian(gal_lambda)-\\\n",
    "            0.5*np.nanmedian(e_dot_u)\n",
    "\n",
    "    G_err = G*np.sqrt(np.square(-2*catalogue['e1'])*np.square(e1_err)+\\\n",
    "                      np.square(-0.5*u2)*np.square(e1_err)+\\\n",
    "                        np.square(2*catalogue['e2'])**np.square(e2_err)+\\\n",
    "                        np.square(0.5*u1)*np.square(e2_err)+\\\n",
    "                        np.square(0.5*catalogue['e1']*u1_err)+\\\n",
    "                        np.square(0.5*catalogue['e2']*u2_err)+\\\n",
    "                        np.square(-0.5*beta)*(\n",
    "                                np.square(catalogue['xxxx_err'])+\n",
    "                                np.square(catalogue['xxyy_err'])+\n",
    "                                np.square(catalogue['yyyy_err'])))\n",
    "\n",
    "    gamma1=catalogue['e1']/G\n",
    "    gamma2=catalogue['e2']/G\n",
    "\n",
    "    gamma1_err = gamma1*np.sqrt(np.square(e1_err/catalogue['e1'])+\\\n",
    "                                 np.square(G_err/G))\n",
    "    gamma2_err = gamma2*np.sqrt(np.square(e2_err/catalogue['e2'])+\\\n",
    "                                 np.square(G_err/G))\n",
    "\n",
    "    fits_cols = []\n",
    "    for iName in catalogue.columns.names:\n",
    "        fits_cols.append( fits.Column(name=iName, format=catalogue[iName].dtype, array=catalogue[iName] ) )\n",
    "        \n",
    "    newcol = [ fits.Column(name='gamma1_err', format=gamma1_err.dtype, array=gamma1_err),\n",
    "               fits.Column(name='gamma2_err', format=gamma2_err.dtype, array=gamma2_err) ]\n",
    "\n",
    " \n",
    "    hdu = fits.BinTableHDU.from_columns(fits_cols + newcol)\n",
    "    hdu.writeto(outfile, overwrite=True,output_verify='ignore')"
   ],
   "metadata": {
    "collapsed": false,
    "pycharm": {
     "name": "#%%\n"
    }
   }
  },
  {
   "cell_type": "code",
   "execution_count": 176,
   "outputs": [],
   "source": [
    "calc_shear_err(shear_catalogue=data_path, outfile=f\"{data_path}_errors\")"
   ],
   "metadata": {
    "collapsed": false,
    "pycharm": {
     "name": "#%%\n"
    }
   }
  },
  {
   "cell_type": "code",
   "execution_count": 177,
   "outputs": [
    {
     "name": "stdout",
     "output_type": "stream",
     "text": [
      "-0.006392441395311924\n",
      "-0.018866055605301715\n"
     ]
    }
   ],
   "source": [
    "data_err = fits.open(f\"{data_path}_errors\")[1].data\n",
    "\n",
    "\n",
    "print(np.mean(data_err['gamma1_err']))\n",
    "print(np.mean(data_err['gamma2_err']))"
   ],
   "metadata": {
    "collapsed": false,
    "pycharm": {
     "name": "#%%\n"
    }
   }
  },
  {
   "cell_type": "code",
   "execution_count": 147,
   "outputs": [],
   "source": [
    "output_path = \"/Users/dgmt59/output\"\n",
    "aggregator_results_path = output_path + \"/slacs_shu_bspline_clean/\"\n",
    "weak_data_path = \"/Users/dgmt59/Documents/Data/slacs_weak_lensing/\"\n",
    "header_path = \"/Users/dgmt59/Documents/Data/SLACS_headers/\"\n",
    "slacs_shu_path = \"/Users/dgmt59/PycharmProjects/autolens_slacs_pre_v_1/dataset/slacs_shu/\""
   ],
   "metadata": {
    "collapsed": false,
    "pycharm": {
     "name": "#%%\n"
    }
   }
  },
  {
   "cell_type": "code",
   "execution_count": 148,
   "outputs": [
    {
     "name": "stdout",
     "output_type": "stream",
     "text": [
      "Aggregator loading phases... could take some time.\n",
      "\n",
      " A total of 419 phases and results were found.\n"
     ]
    }
   ],
   "source": [
    "agg_all = af.Aggregator(directory=str(aggregator_results_path), completed_only=True)"
   ],
   "metadata": {
    "collapsed": false,
    "pycharm": {
     "name": "#%%\n"
    }
   }
  },
  {
   "cell_type": "code",
   "execution_count": 149,
   "outputs": [
    {
     "name": "stdout",
     "output_type": "stream",
     "text": [
      "Filter found a total of 41 results\n",
      "Total Outputs =  41\n"
     ]
    }
   ],
   "source": [
    "phase_name = \"phase[4]_mass[total]_source[fixed]/settings\"\n",
    "\n",
    "agg_shear_sie_all = agg_all.filter(agg.directory.contains(phase_name))\n",
    "\n",
    "print(\"Total Outputs = \",len(agg_shear_sie_all))"
   ],
   "metadata": {
    "collapsed": false,
    "pycharm": {
     "name": "#%%\n"
    }
   }
  },
  {
   "cell_type": "code",
   "execution_count": 150,
   "outputs": [],
   "source": [
    "datasets_shear = agg_shear_sie_all.values(\"dataset\")\n",
    "outputs_shear = agg_shear_sie_all.values(\"samples\")\n",
    "instances_shear = [samps.median_pdf_instance for samps in agg_shear_sie_all.values(\"samples\")]\n",
    "lens_no = [re.sub('slacs', '', dataset.name) for dataset in datasets_shear]"
   ],
   "metadata": {
    "collapsed": false,
    "pycharm": {
     "name": "#%%\n"
    }
   }
  },
  {
   "cell_type": "code",
   "execution_count": 151,
   "outputs": [],
   "source": [
    "for lens in lens_no:\n",
    "    calc_shear_err(shear_catalogue=f\"{weak_data_path}{lens}_F814W_drz_sci_clean.shears\",\n",
    "                   outfile=f\"{weak_data_path}{lens}_F814W_drz_sci_clean.shears_err\")"
   ],
   "metadata": {
    "collapsed": false,
    "pycharm": {
     "name": "#%%\n"
    }
   }
  },
  {
   "cell_type": "code",
   "execution_count": 152,
   "outputs": [
    {
     "name": "stdout",
     "output_type": "stream",
     "text": [
      "9720.4437977512\n",
      "73068.5573616843\n"
     ]
    }
   ],
   "source": [
    "data_err = fits.open(f\"{weak_data_path}0822+2652_F814W_drz_sci_clean.shears_err\")[1].data\n",
    "\n",
    "\n",
    "print(np.mean(data_err['gamma1_err']))\n",
    "print(np.mean(data_err['gamma2_err']))\n",
    "\n",
    "\n",
    "\n"
   ],
   "metadata": {
    "collapsed": false,
    "pycharm": {
     "name": "#%%\n"
    }
   }
  },
  {
   "cell_type": "code",
   "execution_count": 97,
   "outputs": [],
   "source": [],
   "metadata": {
    "collapsed": false,
    "pycharm": {
     "name": "#%%\n"
    }
   }
  },
  {
   "cell_type": "code",
   "execution_count": null,
   "outputs": [],
   "source": [],
   "metadata": {
    "collapsed": false,
    "pycharm": {
     "name": "#%%\n"
    }
   }
  }
 ],
 "metadata": {
  "kernelspec": {
   "display_name": "Python 3",
   "language": "python",
   "name": "python3"
  },
  "language_info": {
   "codemirror_mode": {
    "name": "ipython",
    "version": 2
   },
   "file_extension": ".py",
   "mimetype": "text/x-python",
   "name": "python",
   "nbconvert_exporter": "python",
   "pygments_lexer": "ipython2",
   "version": "2.7.6"
  }
 },
 "nbformat": 4,
 "nbformat_minor": 0
}