{
 "cells": [
  {
   "cell_type": "code",
   "execution_count": 15,
   "outputs": [],
   "source": [
    "import pandas as pd\n",
    "from pandas import DataFrame as df\n",
    "import numpy as np\n",
    "from astropy import cosmology\n",
    "import matplotlib.pyplot as plt\n",
    "import getdist as gd\n",
    "from getdist import MCSamples\n",
    "import getdist.plots as gdplot\n",
    "import matplotlib\n",
    "from scipy.stats import norm\n",
    "import matplotlib.mlab as mlab\n",
    "from autogalaxy.util import cosmology_util\n",
    "from astropy import constants\n",
    "\n",
    "cosmo = cosmology.Planck15"
   ],
   "metadata": {
    "collapsed": false,
    "pycharm": {
     "name": "#%%\n"
    }
   }
  },
  {
   "cell_type": "code",
   "execution_count": 8,
   "outputs": [],
   "source": [
    "from autoconf import conf\n",
    "import autofit as af\n",
    "import autolens as al\n",
    "import autolens.plot as aplt\n",
    "from astropy.io import fits\n",
    "from astropy.utils.data import get_pkg_data_filename\n",
    "import matplotlib.pyplot as plt\n",
    "from matplotlib import gridspec as gridspec\n",
    "from matplotlib.colors import SymLogNorm\n",
    "import re\n",
    "from astropy import units as u\n",
    "from astropy.coordinates import SkyCoord\n",
    "from astropy.io import fits\n",
    "from astropy.wcs import WCS\n",
    "\n",
    "fig_path = '/Users/dgmt59/Documents/Plots/weak_lensing/'"
   ],
   "metadata": {
    "collapsed": false,
    "pycharm": {
     "name": "#%%\n"
    }
   }
  },
  {
   "cell_type": "code",
   "execution_count": 9,
   "outputs": [],
   "source": [
    "workspace_path = \"/Users/dgmt59/PycharmProjects/autolens_slacs/\"\n",
    "output_path = \"/Users/dgmt59/output\"\n",
    "aggregator_results_path_1 = output_path + \"/slacs_shu_bspline_clean/\"\n",
    "weak_data_path = \"/Users/dgmt59/Documents/Data/slacs_weak_lensing/\"\n",
    "header_path = \"/Users/dgmt59/Documents/Data/SLACS_headers/\""
   ],
   "metadata": {
    "collapsed": false,
    "pycharm": {
     "name": "#%%\n"
    }
   }
  },
  {
   "cell_type": "code",
   "execution_count": 10,
   "outputs": [
    {
     "name": "stdout",
     "output_type": "stream",
     "text": [
      "Aggregator loading phases... could take some time.\n",
      "\n",
      " A total of 312 phases and results were found.\n"
     ]
    }
   ],
   "source": [
    "agg = af.Aggregator(directory=str(aggregator_results_path_1), completed_only=True)"
   ],
   "metadata": {
    "collapsed": false,
    "pycharm": {
     "name": "#%%\n"
    }
   }
  },
  {
   "cell_type": "code",
   "execution_count": 11,
   "outputs": [
    {
     "name": "stdout",
     "output_type": "stream",
     "text": [
      "Filter found a total of 0 results\n",
      "Total Outputs =  0\n"
     ]
    }
   ],
   "source": [
    "phase_name = \"phase_4__mass_sie__source_inversion\"\n",
    "\n",
    "agg_shear_sie = agg.filter(agg.phase == phase_name,\n",
    "                           agg.directory.contains(\"with_shear\"),\n",
    "                           agg.directory.contains(\"pix_voro_image__\"))\n",
    "\n",
    "print(\"Total Outputs = \",len(agg_shear_sie))"
   ],
   "metadata": {
    "collapsed": false,
    "pycharm": {
     "name": "#%%\n"
    }
   }
  },
  {
   "cell_type": "code",
   "execution_count": 12,
   "outputs": [],
   "source": [
    "datasets_shear = agg_shear_sie.values(\"dataset\")\n",
    "outputs_shear = agg_shear_sie.values(\"samples\")\n",
    "instances_shear = [samps.median_pdf_instance for samps in agg_shear_sie.values(\"samples\")]\n",
    "lens_no = [re.sub('slacs', '', dataset.name) for dataset in datasets_shear]\n",
    "ra_lens = [info[\"RA\"] for info in agg_shear_sie.values(\"info\")]\n",
    "dec_lens = [info[\"DEC\"] for info in agg_shear_sie.values(\"info\")]\n",
    "ra_dec = [ra[0:2]+' '+ra[2:4]+' '+ra[4:9]+' '+dec[0:3]+' '+dec[3:5]+' '+dec[5:9] for ra, dec in zip(ra_lens, dec_lens)]"
   ],
   "metadata": {
    "collapsed": false,
    "pycharm": {
     "name": "#%%\n"
    }
   }
  },
  {
   "cell_type": "code",
   "execution_count": 13,
   "outputs": [
    {
     "name": "stdout",
     "output_type": "stream",
     "text": [
      "[]\n",
      "[]\n",
      "[]\n",
      "[]\n"
     ]
    }
   ],
   "source": [
    "radius = 1500 #in pixels\n",
    "radius_deg = 0.0125\n",
    "\n",
    "average_shear = []\n",
    "average_angle = []\n",
    "average_shear_north = []\n",
    "average_angle_north = []\n",
    "average_shear_deg = []\n",
    "average_angle_deg = []\n",
    "\n",
    "for lens, centre in zip(lens_no, ra_dec):\n",
    "    weak_shear_data = fits.open(f\"{weak_data_path}{lens}_F814W_drz_sci_clean.shears\")\n",
    "    data = weak_shear_data[1].data\n",
    "    field_image_data  = get_pkg_data_filename(f\"{weak_data_path}{lens}_F814W_drz_sci.fits\")\n",
    "    image = fits.open(field_image_data)[0]\n",
    "    wcs = WCS(image.header)\n",
    "\n",
    "    lens_centre = SkyCoord(centre, unit=(u.hourangle, u.deg))\n",
    "    centre_pix = wcs.all_world2pix(lens_centre.ra.deg,lens_centre.dec.deg, 1)\n",
    "\n",
    "    circle = plt.Circle((centre_pix[0], centre_pix[1]), radius, color='orange', fill=False)\n",
    "\n",
    "    mask = np.full(len(data.x), True)\n",
    "\n",
    "    pa = 0.5*np.arctan2(data.gamma2,data.gamma1)*(180/np.pi)\n",
    "    pa_north_up= pa + 180 + image.header['ORIENTAT'] - 360\n",
    "    total_gamma=np.sqrt(data.gamma1**2+data.gamma2**2)\n",
    "    gamma1_north_up= total_gamma*np.cos(2*pa_north_up)\n",
    "    gamma2_north_up= total_gamma*np.sin(2*pa_north_up)\n",
    "\n",
    "    for i in range(len(data.x)):\n",
    "        if ((data.x[i] - centre_pix[0])**2 + (data.y[i] - centre_pix[1])**2 > radius**2):\n",
    "            mask[i] = False\n",
    "\n",
    "    mask_deg = np.full(len(data.ra), True)\n",
    "    for i in range(len(data.x)):\n",
    "        if ((data.ra[i] - lens_centre.ra.deg)**2 + (data.dec[i] - lens_centre.dec.deg)**2 > radius_deg**2):\n",
    "            mask_deg[i] = False\n",
    "\n",
    "    g1 = []\n",
    "    g2 = []\n",
    "    g1_deg = []\n",
    "    g2_deg = []\n",
    "    g1_north = []\n",
    "    g2_north = []\n",
    "    x_inside = []\n",
    "    y_inside = []\n",
    "\n",
    "    for i in range(len(mask)):\n",
    "        if mask[i]==True:\n",
    "            g1_north.append(gamma1_north_up[i])\n",
    "            g2_north.append(gamma2_north_up[i])\n",
    "            g1.append(data.gamma1[i])\n",
    "            g2.append(data.gamma2[i])\n",
    "            x_inside.append(data.x[i])\n",
    "            y_inside.append(data.y[i])\n",
    "\n",
    "    for i in range(len(mask_deg)):\n",
    "        if mask_deg[i]==True:\n",
    "            g1_deg.append(data.gamma1[i])\n",
    "            g2_deg.append(data.gamma2[i])\n",
    "\n",
    "    mean_g1 = np.mean(g1)\n",
    "    mean_g2 = np.mean(g2)\n",
    "    mean_g1_deg = np.mean(g1_deg)\n",
    "    mean_g2_deg = np.mean(g2_deg)\n",
    "    mean_g1_north = np.mean(g1_north)\n",
    "    mean_g2_north = np.mean(g2_north)\n",
    "\n",
    "    shear = np.sqrt(mean_g1**2 + mean_g2**2)\n",
    "    angle = 0.5*(np.arctan2(mean_g2,mean_g1))*(180/np.pi)\n",
    "    shear_deg = np.sqrt(mean_g1_deg**2 + mean_g2_deg**2)\n",
    "    angle_deg = 0.5*(np.arctan2(mean_g2_deg,mean_g1_deg))*(180/np.pi)\n",
    "    shear_north = np.sqrt(mean_g1_north**2 + mean_g2_north**2)\n",
    "    angle_north= 0.5*(np.arctan2(mean_g2_north,mean_g1_north))*(180/np.pi)\n",
    "\n",
    "    average_shear.append(shear)\n",
    "    average_angle.append(angle)\n",
    "    average_shear_deg.append(shear_deg)\n",
    "    average_angle_deg.append(angle_deg)\n",
    "    average_shear_north.append(shear_north)\n",
    "    average_angle_north.append(angle_north)\n",
    "\n",
    "    fig = plt.figure(figsize=(15,15))\n",
    "    plt.imshow(image.data, cmap='gray', norm=SymLogNorm(vmin=-0.13, vmax=20, linthresh=0.02))\n",
    "    plt.scatter(data.x, data.y, edgecolors=\"cyan\", marker=\"o\", facecolors='none', s=80)\n",
    "    plt.quiver(data.x,data.y,data.gamma1,data.gamma2)\n",
    "    plt.scatter(x_inside, y_inside, edgecolors=\"orange\", marker=\"o\", facecolors='none', s=80)\n",
    "    plt.gcf().gca().add_artist(circle)\n",
    "    plt.savefig(f\"{fig_path}{lens}.png\")\n",
    "    plt.close()\n",
    "\n",
    "\n",
    "print(average_shear)\n",
    "print(average_angle)\n",
    "print(average_shear_deg)\n",
    "print(average_angle_deg)"
   ],
   "metadata": {
    "collapsed": false,
    "pycharm": {
     "name": "#%%\n"
    }
   }
  },
  {
   "cell_type": "code",
   "execution_count": 14,
   "outputs": [
    {
     "name": "stderr",
     "output_type": "stream",
     "text": [
      "WARNING:matplotlib.legend:No handles with labels found to put in legend.\n"
     ]
    },
    {
     "ename": "NameError",
     "evalue": "name 'np' is not defined",
     "output_type": "error",
     "traceback": [
      "\u001B[0;31m---------------------------------------------------------------------------\u001B[0m",
      "\u001B[0;31mNameError\u001B[0m                                 Traceback (most recent call last)",
      "\u001B[0;32m<ipython-input-14-655fafc3a253>\u001B[0m in \u001B[0;36m<module>\u001B[0;34m\u001B[0m\n\u001B[1;32m      9\u001B[0m \u001B[0mlegend\u001B[0m \u001B[0;34m=\u001B[0m \u001B[0max\u001B[0m\u001B[0;34m.\u001B[0m\u001B[0mlegend\u001B[0m\u001B[0;34m(\u001B[0m\u001B[0mloc\u001B[0m\u001B[0;34m=\u001B[0m\u001B[0;34m'center left'\u001B[0m\u001B[0;34m,\u001B[0m \u001B[0mbbox_to_anchor\u001B[0m\u001B[0;34m=\u001B[0m\u001B[0;34m(\u001B[0m\u001B[0;36m1\u001B[0m\u001B[0;34m,\u001B[0m \u001B[0;36m0.5\u001B[0m\u001B[0;34m)\u001B[0m\u001B[0;34m,\u001B[0m \u001B[0mtitle\u001B[0m\u001B[0;34m=\u001B[0m \u001B[0;34m'Lens Name'\u001B[0m\u001B[0;34m,\u001B[0m \u001B[0mncol\u001B[0m\u001B[0;34m=\u001B[0m\u001B[0;36m2\u001B[0m\u001B[0;34m)\u001B[0m\u001B[0;34m\u001B[0m\u001B[0m\n\u001B[1;32m     10\u001B[0m lims = [\n\u001B[0;32m---> 11\u001B[0;31m     \u001B[0mnp\u001B[0m\u001B[0;34m.\u001B[0m\u001B[0mmin\u001B[0m\u001B[0;34m(\u001B[0m\u001B[0;34m[\u001B[0m\u001B[0max\u001B[0m\u001B[0;34m.\u001B[0m\u001B[0mget_xlim\u001B[0m\u001B[0;34m(\u001B[0m\u001B[0;34m)\u001B[0m\u001B[0;34m,\u001B[0m \u001B[0max\u001B[0m\u001B[0;34m.\u001B[0m\u001B[0mget_ylim\u001B[0m\u001B[0;34m(\u001B[0m\u001B[0;34m)\u001B[0m\u001B[0;34m]\u001B[0m\u001B[0;34m)\u001B[0m\u001B[0;34m,\u001B[0m  \u001B[0;31m# min of both axes\u001B[0m\u001B[0;34m\u001B[0m\u001B[0m\n\u001B[0m\u001B[1;32m     12\u001B[0m     \u001B[0mnp\u001B[0m\u001B[0;34m.\u001B[0m\u001B[0mmax\u001B[0m\u001B[0;34m(\u001B[0m\u001B[0;34m[\u001B[0m\u001B[0max\u001B[0m\u001B[0;34m.\u001B[0m\u001B[0mget_xlim\u001B[0m\u001B[0;34m(\u001B[0m\u001B[0;34m)\u001B[0m\u001B[0;34m,\u001B[0m \u001B[0max\u001B[0m\u001B[0;34m.\u001B[0m\u001B[0mget_ylim\u001B[0m\u001B[0;34m(\u001B[0m\u001B[0;34m)\u001B[0m\u001B[0;34m]\u001B[0m\u001B[0;34m)\u001B[0m\u001B[0;34m,\u001B[0m  \u001B[0;31m# max of both axes\u001B[0m\u001B[0;34m\u001B[0m\u001B[0m\n\u001B[1;32m     13\u001B[0m      ]\n",
      "\u001B[0;31mNameError\u001B[0m: name 'np' is not defined"
     ]
    },
    {
     "data": {
      "text/plain": "<Figure size 720x720 with 1 Axes>",
      "image/png": "[encoded data removed]"
     },
     "metadata": {
      "needs_background": "light"
     },
     "output_type": "display_data"
    }
   ],
   "source": [
    "fig1, ax = plt.subplots(figsize=(10,10))\n",
    "for weak_shear, info, instance, dataset in zip(average_shear, agg_shear_sie.values(\"info\"), instances_shear, agg_shear_sie.values(\"dataset\")):\n",
    "    ax.scatter(weak_shear, instance.galaxies.lens.shear.magnitude,\n",
    "              color=info['colour'], marker=info['marker'], label=dataset.name)\n",
    "plt.xlabel(r'$\\gamma_{weak}^{ext}$', size=14)\n",
    "plt.ylabel(r'$\\gamma_{strong}^{ext}$', size=14)\n",
    "box = ax.get_position()\n",
    "ax.set_position([box.x0, box.y0, box.width * 0.8, box.height])\n",
    "legend = ax.legend(loc='center left', bbox_to_anchor=(1, 0.5), title= 'Lens Name', ncol=2)\n",
    "lims = [\n",
    "    np.min([ax.get_xlim(), ax.get_ylim()]),  # min of both axes\n",
    "    np.max([ax.get_xlim(), ax.get_ylim()]),  # max of both axes\n",
    "     ]\n",
    "ax.plot(lims, lims, 'k--', alpha=0.75, zorder=0)\n",
    "ax.set_aspect('equal')\n",
    "ax.set_xlim(lims)\n",
    "ax.set_ylim(lims)\n",
    "plt.savefig(f\"{fig_path}shear_comparison.png\", bbox_inches='tight', dpi=300)"
   ],
   "metadata": {
    "collapsed": false,
    "pycharm": {
     "name": "#%%\n"
    }
   }
  },
  {
   "cell_type": "code",
   "execution_count": null,
   "outputs": [],
   "source": [
    "fig1, ax = plt.subplots(figsize=(10,10))\n",
    "for weak_shear, info, instance, dataset in zip(average_shear_deg, agg_shear_sie.values(\"info\"), instances_shear, agg_shear_sie.values(\"dataset\")):\n",
    "    ax.scatter(weak_shear, instance.galaxies.lens.shear.magnitude,\n",
    "              color=info['colour'], marker=info['marker'], label=dataset.name)\n",
    "plt.xlabel(r'$\\gamma_{weak}^{ext}$', size=14)\n",
    "plt.ylabel(r'$\\gamma_{strong}^{ext}$', size=14)\n",
    "box = ax.get_position()\n",
    "ax.set_position([box.x0, box.y0, box.width * 0.8, box.height])\n",
    "legend = ax.legend(loc='center left', bbox_to_anchor=(1, 0.5), title= 'Lens Name', ncol=2)\n",
    "lims = [\n",
    "    np.min([ax.get_xlim(), ax.get_ylim()]),  # min of both axes\n",
    "    np.max([ax.get_xlim(), ax.get_ylim()]),  # max of both axes\n",
    "     ]\n",
    "ax.plot(lims, lims, 'k--', alpha=0.75, zorder=0)\n",
    "ax.set_aspect('equal')\n",
    "ax.set_xlim(lims)\n",
    "ax.set_ylim(lims)\n",
    "plt.savefig(f\"{fig_path}shear_comparison_degrees.png\", bbox_inches='tight', dpi=300)\n"
   ],
   "metadata": {
    "collapsed": false,
    "pycharm": {
     "name": "#%%\n"
    }
   }
  },
  {
   "cell_type": "code",
   "execution_count": null,
   "outputs": [],
   "source": [
    "fig1, ax = plt.subplots(figsize=(10,10))\n",
    "for weak_shear, info, instance, dataset in zip(average_shear_north, agg_shear_sie.values(\"info\"), instances_shear, agg_shear_sie.values(\"dataset\")):\n",
    "    ax.scatter(weak_shear, instance.galaxies.lens.shear.magnitude,\n",
    "              color=info['colour'], marker=info['marker'], label=dataset.name)\n",
    "plt.xlabel(r'$\\gamma_{weak}^{ext}$', size=14)\n",
    "plt.ylabel(r'$\\gamma_{strong}^{ext}$', size=14)\n",
    "box = ax.get_position()\n",
    "ax.set_position([box.x0, box.y0, box.width * 0.8, box.height])\n",
    "legend = ax.legend(loc='center left', bbox_to_anchor=(1, 0.5), title= 'Lens Name', ncol=2)\n",
    "lims = [\n",
    "    np.min([ax.get_xlim(), ax.get_ylim()]),  # min of both axes\n",
    "    np.max([ax.get_xlim(), ax.get_ylim()]),  # max of both axes\n",
    "     ]\n",
    "ax.plot(lims, lims, 'k--', alpha=0.75, zorder=0)\n",
    "ax.set_aspect('equal')\n",
    "ax.set_xlim(lims)\n",
    "ax.set_ylim(lims)\n",
    "plt.savefig(f\"{fig_path}shear_comparison_north_up.png\", bbox_inches='tight', dpi=300)\n"
   ],
   "metadata": {
    "collapsed": false,
    "pycharm": {
     "name": "#%%\n"
    }
   }
  },
  {
   "cell_type": "code",
   "execution_count": null,
   "outputs": [],
   "source": [
    "pa_v3 = []\n",
    "pa_other = []\n",
    "\n",
    "for lens in lens_no:\n",
    "    strong_header = fits.open(f\"{header_path}SLACSJ{lens}_F814W_4_biz.fits\")[0]\n",
    "    pa_v3.append(strong_header.header[\"PA_V3\"])\n",
    "    pa_other.append(90-np.abs(strong_header.header[\"PA_V3\"]-90))\n",
    "print(len(pa_v3))"
   ],
   "metadata": {
    "collapsed": false,
    "pycharm": {
     "name": "#%%\n"
    }
   }
  },
  {
   "cell_type": "code",
   "execution_count": null,
   "outputs": [],
   "source": [
    "pa_north = []\n",
    "\n",
    "for instance in instances_shear:\n",
    "    if instance.galaxies.lens.shear.phi < 90:\n",
    "        pa_north.append(90 - instance.galaxies.lens.shear.phi)\n",
    "    else:\n",
    "        pa_north.append(-(instance.galaxies.lens.shear.phi-90))\n",
    "\n",
    "print([180-np.abs(90-instance.galaxies.lens.shear.phi) for instance in instances_shear])\n",
    "print([angle for angle in average_angle_north])\n",
    "print([angle for angle in pa_north])"
   ],
   "metadata": {
    "collapsed": false,
    "pycharm": {
     "name": "#%%\n"
    }
   }
  },
  {
   "cell_type": "code",
   "execution_count": null,
   "outputs": [],
   "source": [
    "fig1, (ax1, ax2) = plt.subplots(1, 2, figsize=(12,5))\n",
    "for weak_shear, weak_angle, pa, info, instance, dataset in \\\n",
    "        zip(average_shear_north,\n",
    "            average_angle_north,\n",
    "            pa_north,\n",
    "            agg_shear_sie.values(\"info\"),\n",
    "            instances_shear,\n",
    "            agg_shear_sie.values(\"dataset\")):\n",
    "    ax1.scatter(weak_shear, instance.galaxies.lens.shear.magnitude,\n",
    "              color=info['colour'], marker=info['marker'])\n",
    "    ax2.scatter(weak_angle, pa,\n",
    "              color=info['colour'], marker=info['marker'], label=dataset.name)\n",
    "ax1.set_xlabel(r'$\\gamma_{weak}^{ext}$', size=14)\n",
    "ax1.set_ylabel(r'$\\gamma_{strong}^{ext}$', size=14)\n",
    "ax2.set_xlabel(r'$\\phi_{weak}^{ext}$', size=14)\n",
    "ax2.set_ylabel(r'$\\phi_{strong}^{ext}$', size=14)\n",
    "box2 = ax2.get_position()\n",
    "ax2.set_position([box2.x0, box2.y0, box2.width, box2.height])\n",
    "box1 = ax1.get_position()\n",
    "ax1.set_position([box1.x0, box1.y0, box1.width, box1.height])\n",
    "legend = ax2.legend(loc='center left', bbox_to_anchor=(1, 0.5), title= 'Lens Name', ncol=2)\n",
    "lims1 = [\n",
    "    np.min([ax1.get_xlim(), ax1.get_ylim()]),  # min of both axes\n",
    "    np.max([ax1.get_xlim(), ax1.get_ylim()]),  # max of both axes\n",
    "     ]\n",
    "ax1.plot(lims1, lims1, 'k--', alpha=0.75, zorder=0)\n",
    "ax1.set_aspect('equal')\n",
    "ax1.set_xlim(lims1)\n",
    "ax1.set_ylim(lims1)\n",
    "lims2 = [\n",
    "    np.min([ax2.get_xlim(), ax2.get_ylim()]),  # min of both axes\n",
    "    np.max([ax2.get_xlim(), ax2.get_ylim()]),  # max of both axes\n",
    "     ]\n",
    "ax2.plot(lims2, lims2, 'k--', alpha=0.75, zorder=0)\n",
    "ax2.set_aspect('equal')\n",
    "ax2.set_xlim(lims2)\n",
    "ax2.set_ylim(lims2)\n",
    "plt.savefig(f\"{fig_path}shear_and_angle_comparison.png\", bbox_inches='tight', dpi=300)"
   ],
   "metadata": {
    "collapsed": false,
    "pycharm": {
     "name": "#%%\n"
    }
   }
  },
  {
   "cell_type": "code",
   "execution_count": null,
   "outputs": [],
   "source": [
    "fig1, (ax1, ax2) = plt.subplots(1, 2, figsize=(12,5))\n",
    "for weak_shear, weak_angle, pa, info, instance, dataset in \\\n",
    "        zip(average_shear,\n",
    "            average_angle,\n",
    "            pa_north,\n",
    "            agg_shear_sie.values(\"info\"),\n",
    "            instances_shear,\n",
    "            agg_shear_sie.values(\"dataset\")):\n",
    "    ax1.scatter(weak_shear, instance.galaxies.lens.shear.magnitude,\n",
    "              color=info['colour'], marker=info['marker'])\n",
    "    ax2.scatter(weak_angle, pa,\n",
    "              color=info['colour'], marker=info['marker'], label=dataset.name)\n",
    "ax1.set_xlabel(r'$\\gamma_{weak}^{ext}$', size=14)\n",
    "ax1.set_ylabel(r'$\\gamma_{strong}^{ext}$', size=14)\n",
    "ax2.set_xlabel(r'$\\phi_{weak}^{ext}$', size=14)\n",
    "ax2.set_ylabel(r'$\\phi_{strong}^{ext}$', size=14)\n",
    "box2 = ax2.get_position()\n",
    "ax2.set_position([box2.x0, box2.y0, box2.width, box2.height])\n",
    "box1 = ax1.get_position()\n",
    "ax1.set_position([box1.x0, box1.y0, box1.width, box1.height])\n",
    "legend = ax2.legend(loc='center left', bbox_to_anchor=(1, 0.5), title= 'Lens Name', ncol=2)\n",
    "lims1 = [\n",
    "    np.min([ax1.get_xlim(), ax1.get_ylim()]),  # min of both axes\n",
    "    np.max([ax1.get_xlim(), ax1.get_ylim()]),  # max of both axes\n",
    "     ]\n",
    "ax1.plot(lims1, lims1, 'k--', alpha=0.75, zorder=0)\n",
    "ax1.set_aspect('equal')\n",
    "ax1.set_xlim(lims1)\n",
    "ax1.set_ylim(lims1)\n",
    "lims2 = [\n",
    "    np.min([ax2.get_xlim(), ax2.get_ylim()]),  # min of both axes\n",
    "    np.max([ax2.get_xlim(), ax2.get_ylim()]),  # max of both axes\n",
    "     ]\n",
    "ax2.plot(lims2, lims2, 'k--', alpha=0.75, zorder=0)\n",
    "ax2.set_aspect('equal')\n",
    "ax2.set_xlim(lims2)\n",
    "ax2.set_ylim(lims2)\n",
    "plt.savefig(f\"{fig_path}shear_and_angle_comparison.png\", bbox_inches='tight', dpi=300)\n"
   ],
   "metadata": {
    "collapsed": false,
    "pycharm": {
     "name": "#%%\n"
    }
   }
  },
  {
   "cell_type": "code",
   "execution_count": null,
   "outputs": [],
   "source": [
    "fig1, ax = plt.subplots(figsize=(10,10))\n",
    "for weak_shear, info, weak_shear_north, dataset in zip(average_shear, agg_shear_sie.values(\"info\"), average_shear_north, agg_shear_sie.values(\"dataset\")):\n",
    "    ax.scatter(weak_shear, weak_shear_north,\n",
    "              color=info['colour'], marker=info['marker'], label=dataset.name)\n",
    "plt.xlabel(r'$\\gamma_{weak}^{x}$', size=14)\n",
    "plt.ylabel(r'$\\gamma_{weak}^{north}$', size=14)\n",
    "box = ax.get_position()\n",
    "ax.set_position([box.x0, box.y0, box.width * 0.8, box.height])\n",
    "legend = ax.legend(loc='center left', bbox_to_anchor=(1, 0.5), title= 'Lens Name', ncol=2)\n",
    "lims = [\n",
    "    np.min([ax.get_xlim(), ax.get_ylim()]),  # min of both axes\n",
    "    np.max([ax.get_xlim(), ax.get_ylim()]),  # max of both axes\n",
    "     ]\n",
    "ax.plot(lims, lims, 'k--', alpha=0.75, zorder=0)\n",
    "ax.set_aspect('equal')\n",
    "ax.set_xlim(lims)\n",
    "ax.set_ylim(lims)\n",
    "plt.savefig(f\"{fig_path}_weak_shear_comparison_diff_orientation.png\", bbox_inches='tight', dpi=300)\n"
   ],
   "metadata": {
    "collapsed": false,
    "pycharm": {
     "name": "#%%\n"
    }
   }
  },
  {
   "cell_type": "code",
   "execution_count": null,
   "outputs": [],
   "source": [
    "fig1, ax = plt.subplots(figsize=(10,10))\n",
    "for weak_shear, info, weak_shear_deg, dataset in zip(average_shear, agg_shear_sie.values(\"info\"), average_shear_deg, agg_shear_sie.values(\"dataset\")):\n",
    "    ax.scatter(weak_shear, weak_shear_deg,\n",
    "              color=info['colour'], marker=info['marker'], label=dataset.name)\n",
    "plt.xlabel(r'$\\gamma_{weak}^{pix}$', size=14)\n",
    "plt.ylabel(r'$\\gamma_{weak}^{deg}$', size=14)\n",
    "box = ax.get_position()\n",
    "ax.set_position([box.x0, box.y0, box.width * 0.8, box.height])\n",
    "legend = ax.legend(loc='center left', bbox_to_anchor=(1, 0.5), title= 'Lens Name', ncol=2)\n",
    "lims = [\n",
    "    np.min([ax.get_xlim(), ax.get_ylim()]),  # min of both axes\n",
    "    np.max([ax.get_xlim(), ax.get_ylim()]),  # max of both axes\n",
    "     ]\n",
    "ax.plot(lims, lims, 'k--', alpha=0.75, zorder=0)\n",
    "ax.set_aspect('equal')\n",
    "ax.set_xlim(lims)\n",
    "ax.set_ylim(lims)\n",
    "plt.savefig(f\"{fig_path}_weak_shear_comparison_diff_coords.png\", bbox_inches='tight', dpi=300)"
   ],
   "metadata": {
    "collapsed": false,
    "pycharm": {
     "name": "#%%\n"
    }
   }
  },
  {
   "cell_type": "code",
   "execution_count": null,
   "outputs": [],
   "source": [],
   "metadata": {
    "collapsed": false,
    "pycharm": {
     "name": "#%%\n"
    }
   }
  }
 ],
 "metadata": {
  "kernelspec": {
   "display_name": "Python 3",
   "language": "python",
   "name": "python3"
  },
  "language_info": {
   "codemirror_mode": {
    "name": "ipython",
    "version": 3
   },
   "file_extension": ".py",
   "mimetype": "text/x-python",
   "name": "python",
   "nbconvert_exporter": "python",
   "pygments_lexer": "ipython3",
   "version": "3.7.0"
  }
 },
 "nbformat": 4,
 "nbformat_minor": 2
}